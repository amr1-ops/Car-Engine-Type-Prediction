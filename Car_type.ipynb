{
  "nbformat": 4,
  "nbformat_minor": 0,
  "metadata": {
    "colab": {
      "provenance": []
    },
    "kernelspec": {
      "name": "python3",
      "display_name": "Python 3"
    },
    "language_info": {
      "name": "python"
    }
  },
  "cells": [
    {
      "cell_type": "code",
      "execution_count": 2,
      "metadata": {
        "id": "yMvnRccG1TsL"
      },
      "outputs": [],
      "source": [
        "import seaborn as sns\n",
        "from sklearn.preprocessing import StandardScaler\n",
        "from sklearn.model_selection import train_test_split\n",
        "from keras.models import Sequential\n",
        "from keras.layers import Dense ,Dropout\n",
        "from sklearn.preprocessing import LabelEncoder\n",
        "import pandas as pd\n",
        "data = pd.read_csv('/content/Car Engine Type Prediction.csv')"
      ]
    },
    {
      "cell_type": "code",
      "source": [
        "data.info()"
      ],
      "metadata": {
        "colab": {
          "base_uri": "https://localhost:8080/"
        },
        "id": "CJHiyN6m3cOt",
        "outputId": "b3b78651-d761-4ebe-c166-9c9b2ac31a5e"
      },
      "execution_count": 3,
      "outputs": [
        {
          "output_type": "stream",
          "name": "stdout",
          "text": [
            "<class 'pandas.core.frame.DataFrame'>\n",
            "RangeIndex: 38531 entries, 0 to 38530\n",
            "Data columns (total 30 columns):\n",
            " #   Column             Non-Null Count  Dtype  \n",
            "---  ------             --------------  -----  \n",
            " 0   manufacturer_name  38531 non-null  object \n",
            " 1   model_name         38531 non-null  object \n",
            " 2   transmission       38531 non-null  object \n",
            " 3   color              38531 non-null  object \n",
            " 4   odometer_value     38531 non-null  int64  \n",
            " 5   year_produced      38531 non-null  int64  \n",
            " 6   engine_fuel        38531 non-null  object \n",
            " 7   engine_has_gas     38531 non-null  bool   \n",
            " 8   engine_type        38531 non-null  object \n",
            " 9   engine_capacity    38521 non-null  float64\n",
            " 10  body_type          38531 non-null  object \n",
            " 11  has_warranty       38531 non-null  bool   \n",
            " 12  state              38531 non-null  object \n",
            " 13  drivetrain         38531 non-null  object \n",
            " 14  price_usd          38531 non-null  float64\n",
            " 15  is_exchangeable    38531 non-null  bool   \n",
            " 16  location_region    38531 non-null  object \n",
            " 17  number_of_photos   38531 non-null  int64  \n",
            " 18  up_counter         38531 non-null  int64  \n",
            " 19  feature_0          38531 non-null  bool   \n",
            " 20  feature_1          38531 non-null  bool   \n",
            " 21  feature_2          38531 non-null  bool   \n",
            " 22  feature_3          38531 non-null  bool   \n",
            " 23  feature_4          38531 non-null  bool   \n",
            " 24  feature_5          38531 non-null  bool   \n",
            " 25  feature_6          38531 non-null  bool   \n",
            " 26  feature_7          38531 non-null  bool   \n",
            " 27  feature_8          38531 non-null  bool   \n",
            " 28  feature_9          38531 non-null  bool   \n",
            " 29  duration_listed    38531 non-null  int64  \n",
            "dtypes: bool(13), float64(2), int64(5), object(10)\n",
            "memory usage: 5.5+ MB\n"
          ]
        }
      ]
    },
    {
      "cell_type": "code",
      "source": [
        "#missing values\n",
        "print(\"Total missing values:\", data.isna().sum().sum())\n",
        "print(\"Columns with missing values:\", data.columns[data.isna().sum() > 0].values)"
      ],
      "metadata": {
        "colab": {
          "base_uri": "https://localhost:8080/"
        },
        "id": "OFjCR8ca3rkQ",
        "outputId": "75637c80-d5ba-40a3-87b1-31ad789e0e9e"
      },
      "execution_count": 4,
      "outputs": [
        {
          "output_type": "stream",
          "name": "stdout",
          "text": [
            "Total missing values: 10\n",
            "Columns with missing values: ['engine_capacity']\n"
          ]
        }
      ]
    },
    {
      "cell_type": "code",
      "source": [
        "#fill null values\n",
        "data['engine_capacity'] = data['engine_capacity'].fillna(data['engine_capacity'].mean())\n",
        "print(\"Total missing values:\", data.isna().sum().sum())\n"
      ],
      "metadata": {
        "colab": {
          "base_uri": "https://localhost:8080/"
        },
        "id": "tM5PimGf4L9-",
        "outputId": "2378b1fa-2ad0-4a36-e964-236def8b3ee9"
      },
      "execution_count": 5,
      "outputs": [
        {
          "output_type": "stream",
          "name": "stdout",
          "text": [
            "Total missing values: 0\n"
          ]
        }
      ]
    },
    {
      "cell_type": "code",
      "source": [
        "#encoding\n",
        "{column: len(data[column].unique()) for column in data.columns if data.dtypes[column] == 'object'}\n",
        "data=data.drop(['location_region','model_name','feature_0','feature_1','feature_2','feature_3','feature_4','feature_5','feature_6','feature_7','feature_8','feature_9'],axis=1) # not important for our model\n"
      ],
      "metadata": {
        "id": "nc6eCcV34YJG"
      },
      "execution_count": 6,
      "outputs": []
    },
    {
      "cell_type": "code",
      "source": [
        "for column in data.columns:\n",
        "    if data.dtypes[column] == 'bool':\n",
        "        data[column] = data[column].astype(int)"
      ],
      "metadata": {
        "id": "Zq2-7Z6F6FT7"
      },
      "execution_count": 7,
      "outputs": []
    },
    {
      "cell_type": "code",
      "source": [
        "data['transmission'].unique()\n",
        "transmission_mapping = {'automatic': 0, 'mechanical': 1}\n",
        "data['transmission'] = data['transmission'].replace(transmission_mapping)"
      ],
      "metadata": {
        "id": "FUFvY14Q6Nev"
      },
      "execution_count": 8,
      "outputs": []
    },
    {
      "cell_type": "code",
      "source": [
        "encode_x = LabelEncoder()\n",
        "data['manufacturer_name'] = encode_x.fit_transform(data['manufacturer_name'])\n",
        "data['color'] = encode_x.fit_transform(data['color'])\n",
        "data['engine_fuel'] = encode_x.fit_transform(data['engine_fuel'])\n",
        "data['body_type'] = encode_x.fit_transform(data['body_type'])\n",
        "data['state'] = encode_x.fit_transform(data['state'])\n",
        "data['drivetrain'] = encode_x.fit_transform(data['drivetrain'])"
      ],
      "metadata": {
        "id": "yDygT6Yt83WR"
      },
      "execution_count": 9,
      "outputs": []
    },
    {
      "cell_type": "code",
      "source": [
        "data['engine_type'].unique()\n",
        "label_mapping = {\n",
        "    'gasoline': 0,\n",
        "    'diesel': 1,\n",
        "    'electric': 2\n",
        "}"
      ],
      "metadata": {
        "id": "rLxY0PcM9F-4"
      },
      "execution_count": 11,
      "outputs": []
    },
    {
      "cell_type": "code",
      "source": [
        "data['engine_type'] = data['engine_type'].replace(label_mapping)\n",
        "\n",
        "print(\"Remaining non-numeric columns:\", (data.dtypes == 'object').sum())\n",
        "\n",
        "data.info()"
      ],
      "metadata": {
        "colab": {
          "base_uri": "https://localhost:8080/"
        },
        "id": "o_-mrM_s9Iu6",
        "outputId": "646709bf-298f-49d8-8cb3-6b19b49cc130"
      },
      "execution_count": 12,
      "outputs": [
        {
          "output_type": "stream",
          "name": "stdout",
          "text": [
            "Remaining non-numeric columns: 0\n",
            "<class 'pandas.core.frame.DataFrame'>\n",
            "RangeIndex: 38531 entries, 0 to 38530\n",
            "Data columns (total 18 columns):\n",
            " #   Column             Non-Null Count  Dtype  \n",
            "---  ------             --------------  -----  \n",
            " 0   manufacturer_name  38531 non-null  int64  \n",
            " 1   transmission       38531 non-null  int64  \n",
            " 2   color              38531 non-null  int64  \n",
            " 3   odometer_value     38531 non-null  int64  \n",
            " 4   year_produced      38531 non-null  int64  \n",
            " 5   engine_fuel        38531 non-null  int64  \n",
            " 6   engine_has_gas     38531 non-null  int64  \n",
            " 7   engine_type        38531 non-null  int64  \n",
            " 8   engine_capacity    38531 non-null  float64\n",
            " 9   body_type          38531 non-null  int64  \n",
            " 10  has_warranty       38531 non-null  int64  \n",
            " 11  state              38531 non-null  int64  \n",
            " 12  drivetrain         38531 non-null  int64  \n",
            " 13  price_usd          38531 non-null  float64\n",
            " 14  is_exchangeable    38531 non-null  int64  \n",
            " 15  number_of_photos   38531 non-null  int64  \n",
            " 16  up_counter         38531 non-null  int64  \n",
            " 17  duration_listed    38531 non-null  int64  \n",
            "dtypes: float64(2), int64(16)\n",
            "memory usage: 5.3 MB\n"
          ]
        }
      ]
    },
    {
      "cell_type": "code",
      "source": [
        "y = data['engine_type'].copy()\n",
        "X = data.drop('engine_type', axis=1).copy()\n",
        "scaler = StandardScaler()"
      ],
      "metadata": {
        "id": "tbPmHqGK9OPo"
      },
      "execution_count": 13,
      "outputs": []
    },
    {
      "cell_type": "code",
      "source": [
        "X = scaler.fit_transform(X)\n",
        "X_train, X_test, y_train, y_test = train_test_split(X, y, train_size=0.7, random_state=100)"
      ],
      "metadata": {
        "id": "zHmLBaFg9RRo"
      },
      "execution_count": 14,
      "outputs": []
    },
    {
      "cell_type": "code",
      "source": [
        "model = Sequential()\n",
        "model.add(Dense(64,activation='relu'))#input layer\n",
        "model.add(Dropout(0.2))\n",
        "model.add(Dense(64,activation='relu'))\n",
        "model.add(Dropout(0.2))\n",
        "model.add(Dense(3, activation='softmax'))#output"
      ],
      "metadata": {
        "id": "J_z6H6Q39T4K"
      },
      "execution_count": 15,
      "outputs": []
    },
    {
      "cell_type": "code",
      "source": [
        "# compile the keras model\n",
        "model.compile(loss='sparse_categorical_crossentropy', optimizer='adam', metrics=['accuracy'])\n",
        "\n",
        "# train the model\n",
        "history = model.fit(X_train,  y_train, epochs=50,  batch_size=32,verbose=1, validation_split=0.2)\n",
        "\n",
        "# evaluate the keras model\n",
        "test_loss, test_acc = model.evaluate(X_test, y_test)\n",
        "print(\"accuracy \",test_acc)"
      ],
      "metadata": {
        "colab": {
          "base_uri": "https://localhost:8080/"
        },
        "id": "-IGhyxvT9beb",
        "outputId": "3dbe44fe-5eb0-4165-dee3-6f3ad24d4c83"
      },
      "execution_count": 16,
      "outputs": [
        {
          "output_type": "stream",
          "name": "stdout",
          "text": [
            "Epoch 1/50\n",
            "675/675 [==============================] - 3s 3ms/step - loss: 0.0729 - accuracy: 0.9773 - val_loss: 2.4659e-04 - val_accuracy: 1.0000\n",
            "Epoch 2/50\n",
            "675/675 [==============================] - 2s 3ms/step - loss: 0.0053 - accuracy: 0.9989 - val_loss: 5.4040e-05 - val_accuracy: 1.0000\n",
            "Epoch 3/50\n",
            "675/675 [==============================] - 2s 3ms/step - loss: 0.0030 - accuracy: 0.9995 - val_loss: 5.1154e-05 - val_accuracy: 1.0000\n",
            "Epoch 4/50\n",
            "675/675 [==============================] - 2s 3ms/step - loss: 0.0036 - accuracy: 0.9994 - val_loss: 2.9083e-05 - val_accuracy: 1.0000\n",
            "Epoch 5/50\n",
            "675/675 [==============================] - 3s 5ms/step - loss: 0.0021 - accuracy: 0.9994 - val_loss: 3.1047e-05 - val_accuracy: 1.0000\n",
            "Epoch 6/50\n",
            "675/675 [==============================] - 2s 3ms/step - loss: 0.0019 - accuracy: 0.9996 - val_loss: 5.2060e-05 - val_accuracy: 1.0000\n",
            "Epoch 7/50\n",
            "675/675 [==============================] - 2s 3ms/step - loss: 0.0013 - accuracy: 0.9999 - val_loss: 1.7830e-05 - val_accuracy: 1.0000\n",
            "Epoch 8/50\n",
            "675/675 [==============================] - 4s 6ms/step - loss: 0.0012 - accuracy: 0.9998 - val_loss: 1.4638e-05 - val_accuracy: 1.0000\n",
            "Epoch 9/50\n",
            "675/675 [==============================] - 2s 3ms/step - loss: 9.3699e-04 - accuracy: 0.9999 - val_loss: 1.5242e-05 - val_accuracy: 1.0000\n",
            "Epoch 10/50\n",
            "675/675 [==============================] - 2s 3ms/step - loss: 9.7472e-04 - accuracy: 0.9999 - val_loss: 1.3313e-05 - val_accuracy: 1.0000\n",
            "Epoch 11/50\n",
            "675/675 [==============================] - 3s 5ms/step - loss: 0.0012 - accuracy: 0.9996 - val_loss: 5.2644e-06 - val_accuracy: 1.0000\n",
            "Epoch 12/50\n",
            "675/675 [==============================] - 3s 5ms/step - loss: 0.0013 - accuracy: 0.9998 - val_loss: 7.1922e-04 - val_accuracy: 1.0000\n",
            "Epoch 13/50\n",
            "675/675 [==============================] - 2s 3ms/step - loss: 6.4263e-04 - accuracy: 0.9998 - val_loss: 2.8130e-05 - val_accuracy: 1.0000\n",
            "Epoch 14/50\n",
            "675/675 [==============================] - 3s 4ms/step - loss: 5.1700e-04 - accuracy: 0.9999 - val_loss: 1.0287e-05 - val_accuracy: 1.0000\n",
            "Epoch 15/50\n",
            "675/675 [==============================] - 3s 4ms/step - loss: 7.7504e-04 - accuracy: 0.9999 - val_loss: 2.1870e-05 - val_accuracy: 1.0000\n",
            "Epoch 16/50\n",
            "675/675 [==============================] - 2s 3ms/step - loss: 6.9971e-04 - accuracy: 0.9998 - val_loss: 0.0032 - val_accuracy: 0.9996\n",
            "Epoch 17/50\n",
            "675/675 [==============================] - 2s 3ms/step - loss: 0.0022 - accuracy: 0.9998 - val_loss: 3.1193e-04 - val_accuracy: 1.0000\n",
            "Epoch 18/50\n",
            "675/675 [==============================] - 2s 3ms/step - loss: 4.4969e-04 - accuracy: 0.9999 - val_loss: 9.9169e-05 - val_accuracy: 1.0000\n",
            "Epoch 19/50\n",
            "675/675 [==============================] - 2s 3ms/step - loss: 0.0013 - accuracy: 0.9998 - val_loss: 2.7385e-05 - val_accuracy: 1.0000\n",
            "Epoch 20/50\n",
            "675/675 [==============================] - 4s 6ms/step - loss: 4.8846e-04 - accuracy: 0.9999 - val_loss: 5.3210e-05 - val_accuracy: 1.0000\n",
            "Epoch 21/50\n",
            "675/675 [==============================] - 3s 4ms/step - loss: 3.5911e-04 - accuracy: 0.9999 - val_loss: 1.9201e-05 - val_accuracy: 1.0000\n",
            "Epoch 22/50\n",
            "675/675 [==============================] - 4s 5ms/step - loss: 4.2392e-04 - accuracy: 0.9999 - val_loss: 2.9001e-05 - val_accuracy: 1.0000\n",
            "Epoch 23/50\n",
            "675/675 [==============================] - 2s 3ms/step - loss: 4.2534e-04 - accuracy: 0.9999 - val_loss: 3.1426e-05 - val_accuracy: 1.0000\n",
            "Epoch 24/50\n",
            "675/675 [==============================] - 2s 3ms/step - loss: 2.3793e-04 - accuracy: 1.0000 - val_loss: 1.4508e-05 - val_accuracy: 1.0000\n",
            "Epoch 25/50\n",
            "675/675 [==============================] - 2s 3ms/step - loss: 8.9899e-04 - accuracy: 0.9998 - val_loss: 2.2541e-05 - val_accuracy: 1.0000\n",
            "Epoch 26/50\n",
            "675/675 [==============================] - 2s 3ms/step - loss: 3.4060e-04 - accuracy: 0.9999 - val_loss: 1.7504e-05 - val_accuracy: 1.0000\n",
            "Epoch 27/50\n",
            "675/675 [==============================] - 2s 3ms/step - loss: 4.1819e-04 - accuracy: 0.9999 - val_loss: 2.0269e-05 - val_accuracy: 1.0000\n",
            "Epoch 28/50\n",
            "675/675 [==============================] - 2s 3ms/step - loss: 6.5791e-04 - accuracy: 0.9999 - val_loss: 2.2479e-05 - val_accuracy: 1.0000\n",
            "Epoch 29/50\n",
            "675/675 [==============================] - 2s 4ms/step - loss: 4.1134e-04 - accuracy: 1.0000 - val_loss: 7.2436e-05 - val_accuracy: 1.0000\n",
            "Epoch 30/50\n",
            "675/675 [==============================] - 5s 7ms/step - loss: 8.5983e-04 - accuracy: 0.9998 - val_loss: 2.8793e-05 - val_accuracy: 1.0000\n",
            "Epoch 31/50\n",
            "675/675 [==============================] - 8s 13ms/step - loss: 3.2692e-04 - accuracy: 1.0000 - val_loss: 5.6616e-05 - val_accuracy: 1.0000\n",
            "Epoch 32/50\n",
            "675/675 [==============================] - 5s 8ms/step - loss: 2.5123e-04 - accuracy: 1.0000 - val_loss: 2.7115e-05 - val_accuracy: 1.0000\n",
            "Epoch 33/50\n",
            "675/675 [==============================] - 3s 5ms/step - loss: 1.4882e-04 - accuracy: 1.0000 - val_loss: 1.1836e-04 - val_accuracy: 1.0000\n",
            "Epoch 34/50\n",
            "675/675 [==============================] - 2s 3ms/step - loss: 5.2843e-04 - accuracy: 0.9999 - val_loss: 0.0012 - val_accuracy: 0.9998\n",
            "Epoch 35/50\n",
            "675/675 [==============================] - 2s 3ms/step - loss: 7.8595e-04 - accuracy: 0.9998 - val_loss: 2.5731e-06 - val_accuracy: 1.0000\n",
            "Epoch 36/50\n",
            "675/675 [==============================] - 2s 3ms/step - loss: 4.8193e-04 - accuracy: 0.9999 - val_loss: 6.1639e-05 - val_accuracy: 1.0000\n",
            "Epoch 37/50\n",
            "675/675 [==============================] - 2s 2ms/step - loss: 3.3812e-04 - accuracy: 1.0000 - val_loss: 1.4946e-05 - val_accuracy: 1.0000\n",
            "Epoch 38/50\n",
            "675/675 [==============================] - 2s 3ms/step - loss: 0.0020 - accuracy: 0.9999 - val_loss: 3.4546e-05 - val_accuracy: 1.0000\n",
            "Epoch 39/50\n",
            "675/675 [==============================] - 2s 3ms/step - loss: 1.3502e-04 - accuracy: 0.9999 - val_loss: 4.2901e-05 - val_accuracy: 1.0000\n",
            "Epoch 40/50\n",
            "675/675 [==============================] - 3s 4ms/step - loss: 4.5262e-04 - accuracy: 0.9999 - val_loss: 1.6942e-05 - val_accuracy: 1.0000\n",
            "Epoch 41/50\n",
            "675/675 [==============================] - 2s 3ms/step - loss: 1.1986e-04 - accuracy: 1.0000 - val_loss: 3.5257e-06 - val_accuracy: 1.0000\n",
            "Epoch 42/50\n",
            "675/675 [==============================] - 2s 3ms/step - loss: 0.0016 - accuracy: 0.9999 - val_loss: 7.4855e-06 - val_accuracy: 1.0000\n",
            "Epoch 43/50\n",
            "675/675 [==============================] - 2s 3ms/step - loss: 1.0238e-04 - accuracy: 1.0000 - val_loss: 1.7861e-05 - val_accuracy: 1.0000\n",
            "Epoch 44/50\n",
            "675/675 [==============================] - 2s 3ms/step - loss: 1.6705e-04 - accuracy: 0.9999 - val_loss: 7.4855e-06 - val_accuracy: 1.0000\n",
            "Epoch 45/50\n",
            "675/675 [==============================] - 2s 3ms/step - loss: 1.4380e-04 - accuracy: 1.0000 - val_loss: 1.9920e-05 - val_accuracy: 1.0000\n",
            "Epoch 46/50\n",
            "675/675 [==============================] - 2s 3ms/step - loss: 3.0253e-04 - accuracy: 1.0000 - val_loss: 1.5844e-04 - val_accuracy: 1.0000\n",
            "Epoch 47/50\n",
            "675/675 [==============================] - 2s 3ms/step - loss: 6.6126e-04 - accuracy: 0.9999 - val_loss: 3.5801e-06 - val_accuracy: 1.0000\n",
            "Epoch 48/50\n",
            "675/675 [==============================] - 2s 3ms/step - loss: 2.4861e-04 - accuracy: 1.0000 - val_loss: 5.4788e-05 - val_accuracy: 1.0000\n",
            "Epoch 49/50\n",
            "675/675 [==============================] - 2s 3ms/step - loss: 5.4011e-05 - accuracy: 1.0000 - val_loss: 8.7742e-05 - val_accuracy: 1.0000\n",
            "Epoch 50/50\n",
            "675/675 [==============================] - 2s 3ms/step - loss: 9.1107e-05 - accuracy: 1.0000 - val_loss: 1.0362e-05 - val_accuracy: 1.0000\n",
            "362/362 [==============================] - 1s 2ms/step - loss: 4.6392e-05 - accuracy: 1.0000\n",
            "accuracy  1.0\n"
          ]
        }
      ]
    },
    {
      "cell_type": "code",
      "source": [
        "# summarize history for accuracy\n",
        "import matplotlib.pyplot as plt\n",
        "plt.plot(history.history['accuracy'])\n",
        "plt.plot(history.history['val_accuracy'])\n",
        "plt.title('model accuracy')\n",
        "plt.ylabel('accuracy')\n",
        "plt.xlabel('epoch')\n",
        "plt.legend(['train', 'test'], loc='lower right')\n",
        "plt.show()"
      ],
      "metadata": {
        "colab": {
          "base_uri": "https://localhost:8080/",
          "height": 295
        },
        "id": "awSlbzul9nTi",
        "outputId": "04dac7a9-b4d4-468e-af51-eea0fbbf83d2"
      },
      "execution_count": 17,
      "outputs": [
        {
          "output_type": "display_data",
          "data": {
            "text/plain": [
              "<Figure size 432x288 with 1 Axes>"
            ],
            "image/png": "[encoded data removed]"
          },
          "metadata": {
            "needs_background": "light"
          }
        }
      ]
    },
    {
      "cell_type": "code",
      "source": [
        "# summarize history for loss\n",
        "plt.plot(history.history['loss'])\n",
        "plt.plot(history.history['val_loss'])\n",
        "plt.title('model loss')\n",
        "plt.ylabel('loss')\n",
        "plt.xlabel('epoch')\n",
        "plt.legend(['train', 'test'], loc='upper right')\n",
        "plt.show()\n"
      ],
      "metadata": {
        "colab": {
          "base_uri": "https://localhost:8080/",
          "height": 295
        },
        "id": "OCizKhWk9qju",
        "outputId": "adc6cf39-4ef8-49d5-858a-c19924dd7706"
      },
      "execution_count": 18,
      "outputs": [
        {
          "output_type": "display_data",
          "data": {
            "text/plain": [
              "<Figure size 432x288 with 1 Axes>"
            ],
            "image/png": "[encoded data removed]"
          },
          "metadata": {
            "needs_background": "light"
          }
        }
      ]
    },
    {
      "cell_type": "code",
      "source": [
        "#confusion matrix\n",
        "from sklearn.metrics import confusion_matrix\n",
        "prediction = model.predict(X_test).argmax(axis=1)\n",
        "cm = confusion_matrix(y_test, prediction)\n",
        "\n",
        "cm_df = pd.DataFrame(cm,\n",
        "                     index = [\"0\",\"1\",\"2\"], \n",
        "                     columns =[\"0\",\"1\",\"2\"])\n",
        "\n",
        "plt.figure(figsize=(5,4))\n",
        "sns.heatmap(cm_df, annot=True,fmt='d')\n",
        "plt.title('Confusion Matrix')\n",
        "plt.ylabel('Actal Values')\n",
        "plt.xlabel('Predicted Values')\n",
        "plt.show()\n"
      ],
      "metadata": {
        "colab": {
          "base_uri": "https://localhost:8080/",
          "height": 313
        },
        "id": "DG-1vIkS9uYd",
        "outputId": "ba9c264b-4127-4cdc-ea65-4eac2a1e4b5c"
      },
      "execution_count": 19,
      "outputs": [
        {
          "output_type": "stream",
          "name": "stdout",
          "text": [
            "362/362 [==============================] - 1s 1ms/step\n"
          ]
        },
        {
          "output_type": "display_data",
          "data": {
            "text/plain": [
              "<Figure size 360x288 with 2 Axes>"
            ],
            "image/png": "[encoded data removed]"
          },
          "metadata": {
            "needs_background": "light"
          }
        }
      ]
    }
  ]
}